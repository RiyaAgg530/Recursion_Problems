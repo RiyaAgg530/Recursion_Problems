{
 "cells": [
  {
   "cell_type": "code",
   "execution_count": 2,
   "id": "f4a3f3c2",
   "metadata": {},
   "outputs": [
    {
     "name": "stdout",
     "output_type": "stream",
     "text": [
      "3 2 5 6 8 7 9\n"
     ]
    },
    {
     "data": {
      "text/plain": [
       "False"
      ]
     },
     "execution_count": 2,
     "metadata": {},
     "output_type": "execute_result"
    }
   ],
   "source": [
    "def issorted(li):\n",
    "    l = len(li)\n",
    "    if l==0 or l==1:\n",
    "        return True\n",
    "    if li[0]>li[1]:\n",
    "        return False\n",
    "    smallOutput = issorted(li[1:])\n",
    "    if smallOutput:\n",
    "        return True\n",
    "    else:\n",
    "        return False\n",
    "\n",
    "li = list(int(i) for i in input().split())\n",
    "issorted(li)"
   ]
  }
 ],
 "metadata": {
  "kernelspec": {
   "display_name": "Python 3 (ipykernel)",
   "language": "python",
   "name": "python3"
  },
  "language_info": {
   "codemirror_mode": {
    "name": "ipython",
    "version": 3
   },
   "file_extension": ".py",
   "mimetype": "text/x-python",
   "name": "python",
   "nbconvert_exporter": "python",
   "pygments_lexer": "ipython3",
   "version": "3.11.1"
  }
 },
 "nbformat": 4,
 "nbformat_minor": 5
}
