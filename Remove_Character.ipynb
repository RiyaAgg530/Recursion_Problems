{
 "cells": [
  {
   "cell_type": "code",
   "execution_count": 1,
   "id": "4befbbf1",
   "metadata": {},
   "outputs": [
    {
     "name": "stdout",
     "output_type": "stream",
     "text": [
      "abcdbcdcdd\n",
      "c\n"
     ]
    },
    {
     "data": {
      "text/plain": [
       "'abdbddd'"
      ]
     },
     "execution_count": 1,
     "metadata": {},
     "output_type": "execute_result"
    }
   ],
   "source": [
    "def remove(s,a):\n",
    "    l = len(s)\n",
    "    if l == 0:\n",
    "        return s\n",
    "    smallOutput = remove(s[1:],a)\n",
    "    if s[0] == a:\n",
    "        return smallOutput\n",
    "    else:\n",
    "        return s[0]+smallOutput\n",
    "    \n",
    "s = input()\n",
    "a = input()\n",
    "remove(s,a)"
   ]
  }
 ],
 "metadata": {
  "kernelspec": {
   "display_name": "Python 3 (ipykernel)",
   "language": "python",
   "name": "python3"
  },
  "language_info": {
   "codemirror_mode": {
    "name": "ipython",
    "version": 3
   },
   "file_extension": ".py",
   "mimetype": "text/x-python",
   "name": "python",
   "nbconvert_exporter": "python",
   "pygments_lexer": "ipython3",
   "version": "3.11.1"
  }
 },
 "nbformat": 4,
 "nbformat_minor": 5
}
