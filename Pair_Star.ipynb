{
 "cells": [
  {
   "cell_type": "code",
   "execution_count": 10,
   "id": "1bab56e3",
   "metadata": {},
   "outputs": [
    {
     "name": "stdout",
     "output_type": "stream",
     "text": [
      "hello\n"
     ]
    },
    {
     "data": {
      "text/plain": [
       "'hel*lo'"
      ]
     },
     "execution_count": 10,
     "metadata": {},
     "output_type": "execute_result"
    }
   ],
   "source": [
    "def pairStar(s):\n",
    "    l = len(s)\n",
    "    if l==0 or l==1:\n",
    "        return s\n",
    "    smallOutput = pairStar(s[1:])\n",
    "    if s[0]==s[1]:\n",
    "        return s[0]+\"*\"+smallOutput\n",
    "    else:\n",
    "        return s[0]+smallOutput\n",
    "    \n",
    "s = input()\n",
    "pairStar(s)"
   ]
  }
 ],
 "metadata": {
  "kernelspec": {
   "display_name": "Python 3 (ipykernel)",
   "language": "python",
   "name": "python3"
  },
  "language_info": {
   "codemirror_mode": {
    "name": "ipython",
    "version": 3
   },
   "file_extension": ".py",
   "mimetype": "text/x-python",
   "name": "python",
   "nbconvert_exporter": "python",
   "pygments_lexer": "ipython3",
   "version": "3.11.1"
  }
 },
 "nbformat": 4,
 "nbformat_minor": 5
}
