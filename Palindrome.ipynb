{
 "cells": [
  {
   "cell_type": "code",
   "execution_count": 31,
   "id": "b9558979",
   "metadata": {},
   "outputs": [
    {
     "name": "stdout",
     "output_type": "stream",
     "text": [
      "racecar\n",
      "True\n"
     ]
    }
   ],
   "source": [
    "def palindrome(s):\n",
    "    if len(s)==0 or len(s)==1:\n",
    "        return True\n",
    "    if s[0]!=s[len(s)-1]:\n",
    "        return False\n",
    "    return palindrome(s[1:-1])\n",
    "    \n",
    "s = input()\n",
    "if palindrome(s):\n",
    "     print(\"True\")\n",
    "else:\n",
    "     print(\"False\")\n",
    "        \n",
    "    \n"
   ]
  }
 ],
 "metadata": {
  "kernelspec": {
   "display_name": "Python 3 (ipykernel)",
   "language": "python",
   "name": "python3"
  },
  "language_info": {
   "codemirror_mode": {
    "name": "ipython",
    "version": 3
   },
   "file_extension": ".py",
   "mimetype": "text/x-python",
   "name": "python",
   "nbconvert_exporter": "python",
   "pygments_lexer": "ipython3",
   "version": "3.11.1"
  }
 },
 "nbformat": 4,
 "nbformat_minor": 5
}
