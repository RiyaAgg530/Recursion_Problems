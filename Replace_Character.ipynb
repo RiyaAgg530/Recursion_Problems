{
 "cells": [
  {
   "cell_type": "code",
   "execution_count": 2,
   "id": "7cda98f3",
   "metadata": {},
   "outputs": [
    {
     "name": "stdout",
     "output_type": "stream",
     "text": [
      "abcdbcdcdd\n",
      "c\n",
      "e\n"
     ]
    },
    {
     "data": {
      "text/plain": [
       "'abedbededd'"
      ]
     },
     "execution_count": 2,
     "metadata": {},
     "output_type": "execute_result"
    }
   ],
   "source": [
    "def replace_char(s,a,b):\n",
    "    l = len(s)\n",
    "    if l==0:\n",
    "        return s\n",
    "    smallOutput = replace_char(s[1:],a,b)\n",
    "    if s[0]==a:\n",
    "        return b+smallOutput\n",
    "    else:\n",
    "        return s[0]+smallOutput\n",
    "    \n",
    "s = input()\n",
    "a = input()\n",
    "b = input()\n",
    "replace_char(s,a,b)\n"
   ]
  }
 ],
 "metadata": {
  "kernelspec": {
   "display_name": "Python 3 (ipykernel)",
   "language": "python",
   "name": "python3"
  },
  "language_info": {
   "codemirror_mode": {
    "name": "ipython",
    "version": 3
   },
   "file_extension": ".py",
   "mimetype": "text/x-python",
   "name": "python",
   "nbconvert_exporter": "python",
   "pygments_lexer": "ipython3",
   "version": "3.11.1"
  }
 },
 "nbformat": 4,
 "nbformat_minor": 5
}
