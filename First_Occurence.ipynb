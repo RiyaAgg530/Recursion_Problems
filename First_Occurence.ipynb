{
 "cells": [
  {
   "cell_type": "code",
   "execution_count": 2,
   "id": "c1c525eb",
   "metadata": {},
   "outputs": [
    {
     "name": "stdout",
     "output_type": "stream",
     "text": [
      "12 34 56 78 23 67 78\n",
      "78\n"
     ]
    },
    {
     "data": {
      "text/plain": [
       "3"
      ]
     },
     "execution_count": 2,
     "metadata": {},
     "output_type": "execute_result"
    }
   ],
   "source": [
    "def first_index(li,x):\n",
    "    l = len(li)\n",
    "    if l==0:\n",
    "        return -1 \n",
    "    if li[0]==x:\n",
    "        return 0\n",
    "    smallOutput = first_index(li[1:],x)\n",
    "    if smallOutput ==-1:\n",
    "        return -1\n",
    "    else:\n",
    "        return smallOutput + 1\n",
    "    \n",
    "li = list(int(i) for i in input().split())\n",
    "x = int(input())\n",
    "first_index(li,x)"
   ]
  }
 ],
 "metadata": {
  "kernelspec": {
   "display_name": "Python 3 (ipykernel)",
   "language": "python",
   "name": "python3"
  },
  "language_info": {
   "codemirror_mode": {
    "name": "ipython",
    "version": 3
   },
   "file_extension": ".py",
   "mimetype": "text/x-python",
   "name": "python",
   "nbconvert_exporter": "python",
   "pygments_lexer": "ipython3",
   "version": "3.11.1"
  }
 },
 "nbformat": 4,
 "nbformat_minor": 5
}
