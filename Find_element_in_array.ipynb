{
 "cells": [
  {
   "cell_type": "code",
   "execution_count": 4,
   "id": "29e1980d",
   "metadata": {},
   "outputs": [
    {
     "name": "stdout",
     "output_type": "stream",
     "text": [
      "1 2 3 4 5 6\n",
      "7\n"
     ]
    },
    {
     "data": {
      "text/plain": [
       "False"
      ]
     },
     "execution_count": 4,
     "metadata": {},
     "output_type": "execute_result"
    }
   ],
   "source": [
    "def find_ele(li,x):\n",
    "    length = len(li)\n",
    "    if length == 0:\n",
    "        return\n",
    "    if li[0] == x:\n",
    "        return True\n",
    "    smallOutput = find_ele(li[1:],x)\n",
    "    if smallOutput:\n",
    "        return True\n",
    "    else:\n",
    "        return False\n",
    "    \n",
    "li = list(int(i) for i in input().split())\n",
    "x = int(input())\n",
    "find_ele(li,x)"
   ]
  }
 ],
 "metadata": {
  "kernelspec": {
   "display_name": "Python 3 (ipykernel)",
   "language": "python",
   "name": "python3"
  },
  "language_info": {
   "codemirror_mode": {
    "name": "ipython",
    "version": 3
   },
   "file_extension": ".py",
   "mimetype": "text/x-python",
   "name": "python",
   "nbconvert_exporter": "python",
   "pygments_lexer": "ipython3",
   "version": "3.11.1"
  }
 },
 "nbformat": 4,
 "nbformat_minor": 5
}
