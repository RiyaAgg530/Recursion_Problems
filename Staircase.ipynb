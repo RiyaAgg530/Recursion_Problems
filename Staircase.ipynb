{
 "cells": [
  {
   "cell_type": "code",
   "execution_count": 3,
   "id": "b25a4745",
   "metadata": {},
   "outputs": [
    {
     "name": "stdout",
     "output_type": "stream",
     "text": [
      "5\n"
     ]
    },
    {
     "data": {
      "text/plain": [
       "13"
      ]
     },
     "execution_count": 3,
     "metadata": {},
     "output_type": "execute_result"
    }
   ],
   "source": [
    "def staircase(n):\n",
    "    if n<=3:\n",
    "        if n==1:\n",
    "            return 1\n",
    "        elif n==2:\n",
    "            return 2\n",
    "        else:\n",
    "            return 4\n",
    "    x = staircase(n-1)\n",
    "    y = staircase(n-2)\n",
    "    z = staircase(n-3)\n",
    "    return x+y+z\n",
    "\n",
    "n = int(input())\n",
    "staircase(n)"
   ]
  }
 ],
 "metadata": {
  "kernelspec": {
   "display_name": "Python 3 (ipykernel)",
   "language": "python",
   "name": "python3"
  },
  "language_info": {
   "codemirror_mode": {
    "name": "ipython",
    "version": 3
   },
   "file_extension": ".py",
   "mimetype": "text/x-python",
   "name": "python",
   "nbconvert_exporter": "python",
   "pygments_lexer": "ipython3",
   "version": "3.11.1"
  }
 },
 "nbformat": 4,
 "nbformat_minor": 5
}
