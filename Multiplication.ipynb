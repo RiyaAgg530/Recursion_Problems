{
 "cells": [
  {
   "cell_type": "code",
   "execution_count": 3,
   "id": "99eb195f",
   "metadata": {},
   "outputs": [
    {
     "name": "stdout",
     "output_type": "stream",
     "text": [
      "4\n",
      "5\n"
     ]
    },
    {
     "data": {
      "text/plain": [
       "20"
      ]
     },
     "execution_count": 3,
     "metadata": {},
     "output_type": "execute_result"
    }
   ],
   "source": [
    "def mult(n,m):\n",
    "    if n==0 or m==0:\n",
    "        return 0\n",
    "    if n==1:\n",
    "        return m\n",
    "    if m==1:\n",
    "        return n\n",
    "    return n+mult(n,m-1)\n",
    "\n",
    "n= int(input())\n",
    "m= int(input())\n",
    "mult(n,m)"
   ]
  }
 ],
 "metadata": {
  "kernelspec": {
   "display_name": "Python 3 (ipykernel)",
   "language": "python",
   "name": "python3"
  },
  "language_info": {
   "codemirror_mode": {
    "name": "ipython",
    "version": 3
   },
   "file_extension": ".py",
   "mimetype": "text/x-python",
   "name": "python",
   "nbconvert_exporter": "python",
   "pygments_lexer": "ipython3",
   "version": "3.11.1"
  }
 },
 "nbformat": 4,
 "nbformat_minor": 5
}
